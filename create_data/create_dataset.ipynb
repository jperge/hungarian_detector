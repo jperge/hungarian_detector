{
 "cells": [
  {
   "cell_type": "markdown",
   "metadata": {},
   "source": [
    "#### Create data set: Hungarian and American names"
   ]
  },
  {
   "cell_type": "code",
   "execution_count": 1,
   "metadata": {
    "collapsed": true
   },
   "outputs": [],
   "source": [
    "import pandas as pd\n",
    "import numpy as np\n",
    "import unidecode"
   ]
  },
  {
   "cell_type": "code",
   "execution_count": 23,
   "metadata": {
    "collapsed": false
   },
   "outputs": [
    {
     "data": {
      "text/html": [
       "<div>\n",
       "<table border=\"1\" class=\"dataframe\">\n",
       "  <thead>\n",
       "    <tr style=\"text-align: right;\">\n",
       "      <th></th>\n",
       "      <th>g_name</th>\n",
       "    </tr>\n",
       "  </thead>\n",
       "  <tbody>\n",
       "    <tr>\n",
       "      <th>0</th>\n",
       "      <td>﻿jennifer</td>\n",
       "    </tr>\n",
       "    <tr>\n",
       "      <th>1</th>\n",
       "      <td>amanda</td>\n",
       "    </tr>\n",
       "    <tr>\n",
       "      <th>2</th>\n",
       "      <td>jessica</td>\n",
       "    </tr>\n",
       "    <tr>\n",
       "      <th>3</th>\n",
       "      <td>melissa</td>\n",
       "    </tr>\n",
       "    <tr>\n",
       "      <th>4</th>\n",
       "      <td>sarah</td>\n",
       "    </tr>\n",
       "  </tbody>\n",
       "</table>\n",
       "</div>"
      ],
      "text/plain": [
       "      g_name\n",
       "0  ﻿jennifer\n",
       "1     amanda\n",
       "2    jessica\n",
       "3    melissa\n",
       "4      sarah"
      ]
     },
     "execution_count": 23,
     "metadata": {},
     "output_type": "execute_result"
    }
   ],
   "source": [
    "us_given = pd.read_csv('us_given.txt', header=None)\n",
    "us_given.columns = ['g_name','gender', 'cnt']\n",
    "us_given.g_name = us_given.g_name.str.lower()\n",
    "us_given = us_given.drop(['gender', 'cnt'], axis=1)\n",
    "us_given.head()"
   ]
  },
  {
   "cell_type": "code",
   "execution_count": 42,
   "metadata": {
    "collapsed": false
   },
   "outputs": [
    {
     "data": {
      "text/plain": [
       "(19445, 1)"
      ]
     },
     "execution_count": 42,
     "metadata": {},
     "output_type": "execute_result"
    }
   ],
   "source": [
    "us_given.shape"
   ]
  },
  {
   "cell_type": "code",
   "execution_count": 44,
   "metadata": {
    "collapsed": false
   },
   "outputs": [
    {
     "data": {
      "text/html": [
       "<div>\n",
       "<table border=\"1\" class=\"dataframe\">\n",
       "  <thead>\n",
       "    <tr style=\"text-align: right;\">\n",
       "      <th></th>\n",
       "      <th>f_name</th>\n",
       "    </tr>\n",
       "  </thead>\n",
       "  <tbody>\n",
       "    <tr>\n",
       "      <th>0</th>\n",
       "      <td>﻿smith</td>\n",
       "    </tr>\n",
       "    <tr>\n",
       "      <th>1</th>\n",
       "      <td>johnson</td>\n",
       "    </tr>\n",
       "    <tr>\n",
       "      <th>2</th>\n",
       "      <td>williams</td>\n",
       "    </tr>\n",
       "    <tr>\n",
       "      <th>3</th>\n",
       "      <td>brown</td>\n",
       "    </tr>\n",
       "    <tr>\n",
       "      <th>4</th>\n",
       "      <td>jones</td>\n",
       "    </tr>\n",
       "  </tbody>\n",
       "</table>\n",
       "</div>"
      ],
      "text/plain": [
       "     f_name\n",
       "0    ﻿smith\n",
       "1   johnson\n",
       "2  williams\n",
       "3     brown\n",
       "4     jones"
      ]
     },
     "execution_count": 44,
     "metadata": {},
     "output_type": "execute_result"
    }
   ],
   "source": [
    "us_family = pd.read_csv('us_family.txt', header=None)\n",
    "us_family.columns = ['f_name']\n",
    "us_family.f_name = us_family.f_name.str.lower()\n",
    "us_family.head()"
   ]
  },
  {
   "cell_type": "code",
   "execution_count": 45,
   "metadata": {
    "collapsed": false
   },
   "outputs": [
    {
     "data": {
      "text/plain": [
       "(162254, 1)"
      ]
     },
     "execution_count": 45,
     "metadata": {},
     "output_type": "execute_result"
    }
   ],
   "source": [
    "us_family.shape"
   ]
  },
  {
   "cell_type": "code",
   "execution_count": 93,
   "metadata": {
    "collapsed": false
   },
   "outputs": [
    {
     "data": {
      "text/html": [
       "<div>\n",
       "<table border=\"1\" class=\"dataframe\">\n",
       "  <thead>\n",
       "    <tr style=\"text-align: right;\">\n",
       "      <th></th>\n",
       "      <th>g_name</th>\n",
       "    </tr>\n",
       "  </thead>\n",
       "  <tbody>\n",
       "    <tr>\n",
       "      <th>0</th>\n",
       "      <td>adrienn</td>\n",
       "    </tr>\n",
       "    <tr>\n",
       "      <th>1</th>\n",
       "      <td>cintia</td>\n",
       "    </tr>\n",
       "    <tr>\n",
       "      <th>2</th>\n",
       "      <td>zsolt</td>\n",
       "    </tr>\n",
       "    <tr>\n",
       "      <th>3</th>\n",
       "      <td>roza</td>\n",
       "    </tr>\n",
       "    <tr>\n",
       "      <th>4</th>\n",
       "      <td>ervin</td>\n",
       "    </tr>\n",
       "  </tbody>\n",
       "</table>\n",
       "</div>"
      ],
      "text/plain": [
       "    g_name\n",
       "0  adrienn\n",
       "1   cintia\n",
       "2    zsolt\n",
       "3     roza\n",
       "4    ervin"
      ]
     },
     "execution_count": 93,
     "metadata": {},
     "output_type": "execute_result"
    }
   ],
   "source": [
    "hun_given = pd.read_csv('hun_given.txt', header=None)\n",
    "nms = [i.split(' ')[1].lower() for i in hun_given[0].values]\n",
    "nms = list(set(nms))\n",
    "nms = [ unidecode.unidecode(i) for i in nms]\n",
    "hun_given = pd.DataFrame({'g_name':nms})\n",
    "hun_given.head()"
   ]
  },
  {
   "cell_type": "code",
   "execution_count": 94,
   "metadata": {
    "collapsed": false
   },
   "outputs": [
    {
     "data": {
      "text/html": [
       "<div>\n",
       "<table border=\"1\" class=\"dataframe\">\n",
       "  <thead>\n",
       "    <tr style=\"text-align: right;\">\n",
       "      <th></th>\n",
       "      <th>f_name</th>\n",
       "    </tr>\n",
       "  </thead>\n",
       "  <tbody>\n",
       "    <tr>\n",
       "      <th>0</th>\n",
       "      <td>dioszegi</td>\n",
       "    </tr>\n",
       "    <tr>\n",
       "      <th>1</th>\n",
       "      <td>janko</td>\n",
       "    </tr>\n",
       "    <tr>\n",
       "      <th>2</th>\n",
       "      <td>kelemen</td>\n",
       "    </tr>\n",
       "    <tr>\n",
       "      <th>3</th>\n",
       "      <td>borsodi</td>\n",
       "    </tr>\n",
       "    <tr>\n",
       "      <th>4</th>\n",
       "      <td>torma</td>\n",
       "    </tr>\n",
       "  </tbody>\n",
       "</table>\n",
       "</div>"
      ],
      "text/plain": [
       "     f_name\n",
       "0  dioszegi\n",
       "1     janko\n",
       "2   kelemen\n",
       "3   borsodi\n",
       "4     torma"
      ]
     },
     "execution_count": 94,
     "metadata": {},
     "output_type": "execute_result"
    }
   ],
   "source": [
    "hun_family = pd.read_csv('hun_family.txt', header=None)\n",
    "nms = [i.split(' ')[0].lower() for i in hun_family[0].values]\n",
    "nms = list(set(nms))\n",
    "nms = [ unidecode.unidecode(i) for i in nms]\n",
    "hun_family = pd.DataFrame({'f_name':nms})\n",
    "hun_family.head()"
   ]
  },
  {
   "cell_type": "code",
   "execution_count": 46,
   "metadata": {
    "collapsed": true
   },
   "outputs": [],
   "source": [
    "#remove Hungarian names from us names"
   ]
  },
  {
   "cell_type": "code",
   "execution_count": 53,
   "metadata": {
    "collapsed": false
   },
   "outputs": [],
   "source": [
    "us_family = pd.merge(us_family,hun_family, indicator=True, how='outer')\\\n",
    "    .query('_merge==\"left_only\"')\\\n",
    "    .drop('_merge', axis=1)\n",
    "\n",
    "us_given = pd.merge(us_given,hun_given, indicator=True, how='outer')\\\n",
    "    .query('_merge==\"left_only\"')\\\n",
    "    .drop('_merge', axis=1)"
   ]
  },
  {
   "cell_type": "code",
   "execution_count": null,
   "metadata": {
    "collapsed": true
   },
   "outputs": [],
   "source": [
    "#create american names"
   ]
  },
  {
   "cell_type": "code",
   "execution_count": 55,
   "metadata": {
    "collapsed": true
   },
   "outputs": [],
   "source": [
    "#shuffle rows\n",
    "us_family = us_family.sample(frac=1).reset_index(drop=True)\n",
    "us_given = us_given.sample(frac=1).reset_index(drop=True)"
   ]
  },
  {
   "cell_type": "code",
   "execution_count": 67,
   "metadata": {
    "collapsed": false
   },
   "outputs": [],
   "source": [
    "us_given = pd.concat([us_given]*10, ignore_index=True)\n",
    "us_given = us_given[:len(us_family)]"
   ]
  },
  {
   "cell_type": "code",
   "execution_count": 79,
   "metadata": {
    "collapsed": false
   },
   "outputs": [
    {
     "data": {
      "text/html": [
       "<div>\n",
       "<table border=\"1\" class=\"dataframe\">\n",
       "  <thead>\n",
       "    <tr style=\"text-align: right;\">\n",
       "      <th></th>\n",
       "      <th>family</th>\n",
       "      <th>given</th>\n",
       "      <th>hun</th>\n",
       "    </tr>\n",
       "  </thead>\n",
       "  <tbody>\n",
       "    <tr>\n",
       "      <th>0</th>\n",
       "      <td>kanevsky</td>\n",
       "      <td>anand</td>\n",
       "      <td>0</td>\n",
       "    </tr>\n",
       "    <tr>\n",
       "      <th>1</th>\n",
       "      <td>heifort</td>\n",
       "      <td>taylor</td>\n",
       "      <td>0</td>\n",
       "    </tr>\n",
       "    <tr>\n",
       "      <th>2</th>\n",
       "      <td>masey</td>\n",
       "      <td>josha</td>\n",
       "      <td>0</td>\n",
       "    </tr>\n",
       "    <tr>\n",
       "      <th>3</th>\n",
       "      <td>cruzbautista</td>\n",
       "      <td>jordache</td>\n",
       "      <td>0</td>\n",
       "    </tr>\n",
       "    <tr>\n",
       "      <th>4</th>\n",
       "      <td>bystry</td>\n",
       "      <td>giovanna</td>\n",
       "      <td>0</td>\n",
       "    </tr>\n",
       "  </tbody>\n",
       "</table>\n",
       "</div>"
      ],
      "text/plain": [
       "         family     given  hun\n",
       "0      kanevsky     anand    0\n",
       "1       heifort    taylor    0\n",
       "2         masey     josha    0\n",
       "3  cruzbautista  jordache    0\n",
       "4        bystry  giovanna    0"
      ]
     },
     "execution_count": 79,
     "metadata": {},
     "output_type": "execute_result"
    }
   ],
   "source": [
    "us = pd.concat([us_family, us_given], axis=1, ignore_index=True)\n",
    "us.columns = ['family', 'given']\n",
    "us['hun'] = 0\n",
    "\n",
    "us.head()"
   ]
  },
  {
   "cell_type": "code",
   "execution_count": 80,
   "metadata": {
    "collapsed": false
   },
   "outputs": [
    {
     "data": {
      "text/plain": [
       "(161630, 3)"
      ]
     },
     "execution_count": 80,
     "metadata": {},
     "output_type": "execute_result"
    }
   ],
   "source": [
    "us.shape"
   ]
  },
  {
   "cell_type": "code",
   "execution_count": null,
   "metadata": {
    "collapsed": true
   },
   "outputs": [],
   "source": [
    "#create hungarian names"
   ]
  },
  {
   "cell_type": "code",
   "execution_count": 95,
   "metadata": {
    "collapsed": true
   },
   "outputs": [],
   "source": [
    "#shuffle rows\n",
    "hun_family = hun_family.sample(frac=1).reset_index(drop=True)\n",
    "hun_given = hun_given.sample(frac=1).reset_index(drop=True)"
   ]
  },
  {
   "cell_type": "code",
   "execution_count": 96,
   "metadata": {
    "collapsed": false
   },
   "outputs": [
    {
     "name": "stdout",
     "output_type": "stream",
     "text": [
      "family names: 1227, given names: 263\n"
     ]
    }
   ],
   "source": [
    "print('family names: {}, given names: {}'.format(len(hun_family), len(hun_given)))"
   ]
  },
  {
   "cell_type": "code",
   "execution_count": 97,
   "metadata": {
    "collapsed": true
   },
   "outputs": [],
   "source": [
    "hun_given = pd.concat([hun_given]*800, ignore_index=True)\n",
    "hun_given = hun_given[:160000]"
   ]
  },
  {
   "cell_type": "code",
   "execution_count": 98,
   "metadata": {
    "collapsed": true
   },
   "outputs": [],
   "source": [
    "hun_family = pd.concat([hun_family]*170, ignore_index=True)\n",
    "hun_family = hun_family[:160000]"
   ]
  },
  {
   "cell_type": "code",
   "execution_count": 99,
   "metadata": {
    "collapsed": false
   },
   "outputs": [
    {
     "data": {
      "text/html": [
       "<div>\n",
       "<table border=\"1\" class=\"dataframe\">\n",
       "  <thead>\n",
       "    <tr style=\"text-align: right;\">\n",
       "      <th></th>\n",
       "      <th>family</th>\n",
       "      <th>given</th>\n",
       "      <th>hun</th>\n",
       "    </tr>\n",
       "  </thead>\n",
       "  <tbody>\n",
       "    <tr>\n",
       "      <th>0</th>\n",
       "      <td>bodnar</td>\n",
       "      <td>dorka</td>\n",
       "      <td>1</td>\n",
       "    </tr>\n",
       "    <tr>\n",
       "      <th>1</th>\n",
       "      <td>kiss</td>\n",
       "      <td>livia</td>\n",
       "      <td>1</td>\n",
       "    </tr>\n",
       "    <tr>\n",
       "      <th>2</th>\n",
       "      <td>weber</td>\n",
       "      <td>zsombor</td>\n",
       "      <td>1</td>\n",
       "    </tr>\n",
       "    <tr>\n",
       "      <th>3</th>\n",
       "      <td>csatlos</td>\n",
       "      <td>luca</td>\n",
       "      <td>1</td>\n",
       "    </tr>\n",
       "    <tr>\n",
       "      <th>4</th>\n",
       "      <td>benko</td>\n",
       "      <td>barnabas</td>\n",
       "      <td>1</td>\n",
       "    </tr>\n",
       "  </tbody>\n",
       "</table>\n",
       "</div>"
      ],
      "text/plain": [
       "    family     given  hun\n",
       "0   bodnar     dorka    1\n",
       "1     kiss     livia    1\n",
       "2    weber   zsombor    1\n",
       "3  csatlos      luca    1\n",
       "4    benko  barnabas    1"
      ]
     },
     "execution_count": 99,
     "metadata": {},
     "output_type": "execute_result"
    }
   ],
   "source": [
    "hun = pd.concat([hun_family, hun_given], axis=1, ignore_index=True)\n",
    "hun.columns = ['family', 'given']\n",
    "hun['hun'] = 1\n",
    "hun = hun.drop_duplicates()\n",
    "hun.head()"
   ]
  },
  {
   "cell_type": "code",
   "execution_count": 103,
   "metadata": {
    "collapsed": false
   },
   "outputs": [
    {
     "data": {
      "text/html": [
       "<div>\n",
       "<table border=\"1\" class=\"dataframe\">\n",
       "  <thead>\n",
       "    <tr style=\"text-align: right;\">\n",
       "      <th></th>\n",
       "      <th>family</th>\n",
       "      <th>given</th>\n",
       "      <th>hun</th>\n",
       "    </tr>\n",
       "  </thead>\n",
       "  <tbody>\n",
       "    <tr>\n",
       "      <th>0</th>\n",
       "      <td>bodnar</td>\n",
       "      <td>dorka</td>\n",
       "      <td>1</td>\n",
       "    </tr>\n",
       "    <tr>\n",
       "      <th>1</th>\n",
       "      <td>kiss</td>\n",
       "      <td>livia</td>\n",
       "      <td>1</td>\n",
       "    </tr>\n",
       "    <tr>\n",
       "      <th>2</th>\n",
       "      <td>weber</td>\n",
       "      <td>zsombor</td>\n",
       "      <td>1</td>\n",
       "    </tr>\n",
       "  </tbody>\n",
       "</table>\n",
       "</div>"
      ],
      "text/plain": [
       "   family    given  hun\n",
       "0  bodnar    dorka    1\n",
       "1    kiss    livia    1\n",
       "2   weber  zsombor    1"
      ]
     },
     "execution_count": 103,
     "metadata": {},
     "output_type": "execute_result"
    }
   ],
   "source": [
    "names = pd.concat([hun, us], axis=0, ignore_index=True)\n",
    "names.head(3)"
   ]
  },
  {
   "cell_type": "code",
   "execution_count": 104,
   "metadata": {
    "collapsed": false
   },
   "outputs": [
    {
     "data": {
      "text/plain": [
       "0    161630\n",
       "1    159775\n",
       "Name: hun, dtype: int64"
      ]
     },
     "execution_count": 104,
     "metadata": {},
     "output_type": "execute_result"
    }
   ],
   "source": [
    "names.hun.value_counts()"
   ]
  },
  {
   "cell_type": "code",
   "execution_count": 105,
   "metadata": {
    "collapsed": false
   },
   "outputs": [
    {
     "data": {
      "text/plain": [
       "(321405, 3)"
      ]
     },
     "execution_count": 105,
     "metadata": {},
     "output_type": "execute_result"
    }
   ],
   "source": [
    "names.shape"
   ]
  },
  {
   "cell_type": "code",
   "execution_count": 115,
   "metadata": {
    "collapsed": true
   },
   "outputs": [],
   "source": [
    "names = names.sample(frac=1).reset_index(drop=True)\n",
    "names['full_name'] = names.family + ', ' + names.given\n",
    "\n",
    "names.to_csv('names_dataset.csv', index=False)"
   ]
  },
  {
   "cell_type": "code",
   "execution_count": 117,
   "metadata": {
    "collapsed": false
   },
   "outputs": [
    {
     "data": {
      "text/html": [
       "<div>\n",
       "<table border=\"1\" class=\"dataframe\">\n",
       "  <thead>\n",
       "    <tr style=\"text-align: right;\">\n",
       "      <th></th>\n",
       "      <th>family</th>\n",
       "      <th>given</th>\n",
       "      <th>hun</th>\n",
       "      <th>full_name</th>\n",
       "    </tr>\n",
       "  </thead>\n",
       "  <tbody>\n",
       "    <tr>\n",
       "      <th>0</th>\n",
       "      <td>petrovics</td>\n",
       "      <td>bernadett</td>\n",
       "      <td>1</td>\n",
       "      <td>petrovics, bernadett</td>\n",
       "    </tr>\n",
       "    <tr>\n",
       "      <th>1</th>\n",
       "      <td>balatoni</td>\n",
       "      <td>irma</td>\n",
       "      <td>1</td>\n",
       "      <td>balatoni, irma</td>\n",
       "    </tr>\n",
       "    <tr>\n",
       "      <th>2</th>\n",
       "      <td>rusznyak</td>\n",
       "      <td>valeria</td>\n",
       "      <td>1</td>\n",
       "      <td>rusznyak, valeria</td>\n",
       "    </tr>\n",
       "    <tr>\n",
       "      <th>3</th>\n",
       "      <td>paternina</td>\n",
       "      <td>tyanna</td>\n",
       "      <td>0</td>\n",
       "      <td>paternina, tyanna</td>\n",
       "    </tr>\n",
       "    <tr>\n",
       "      <th>4</th>\n",
       "      <td>stommes</td>\n",
       "      <td>evett</td>\n",
       "      <td>0</td>\n",
       "      <td>stommes, evett</td>\n",
       "    </tr>\n",
       "    <tr>\n",
       "      <th>5</th>\n",
       "      <td>szenasi</td>\n",
       "      <td>renato</td>\n",
       "      <td>1</td>\n",
       "      <td>szenasi, renato</td>\n",
       "    </tr>\n",
       "    <tr>\n",
       "      <th>6</th>\n",
       "      <td>szilasi</td>\n",
       "      <td>zalan</td>\n",
       "      <td>1</td>\n",
       "      <td>szilasi, zalan</td>\n",
       "    </tr>\n",
       "    <tr>\n",
       "      <th>7</th>\n",
       "      <td>penunuri</td>\n",
       "      <td>quantina</td>\n",
       "      <td>0</td>\n",
       "      <td>penunuri, quantina</td>\n",
       "    </tr>\n",
       "    <tr>\n",
       "      <th>8</th>\n",
       "      <td>maraz</td>\n",
       "      <td>hanna</td>\n",
       "      <td>1</td>\n",
       "      <td>maraz, hanna</td>\n",
       "    </tr>\n",
       "    <tr>\n",
       "      <th>9</th>\n",
       "      <td>soltesz</td>\n",
       "      <td>patricia</td>\n",
       "      <td>1</td>\n",
       "      <td>soltesz, patricia</td>\n",
       "    </tr>\n",
       "    <tr>\n",
       "      <th>10</th>\n",
       "      <td>gera</td>\n",
       "      <td>timea</td>\n",
       "      <td>1</td>\n",
       "      <td>gera, timea</td>\n",
       "    </tr>\n",
       "    <tr>\n",
       "      <th>11</th>\n",
       "      <td>toldi</td>\n",
       "      <td>kristof</td>\n",
       "      <td>1</td>\n",
       "      <td>toldi, kristof</td>\n",
       "    </tr>\n",
       "    <tr>\n",
       "      <th>12</th>\n",
       "      <td>kazinczi</td>\n",
       "      <td>aladar</td>\n",
       "      <td>1</td>\n",
       "      <td>kazinczi, aladar</td>\n",
       "    </tr>\n",
       "    <tr>\n",
       "      <th>13</th>\n",
       "      <td>vargassanchez</td>\n",
       "      <td>dessa</td>\n",
       "      <td>0</td>\n",
       "      <td>vargassanchez, dessa</td>\n",
       "    </tr>\n",
       "    <tr>\n",
       "      <th>14</th>\n",
       "      <td>kolanko</td>\n",
       "      <td>kristelle</td>\n",
       "      <td>0</td>\n",
       "      <td>kolanko, kristelle</td>\n",
       "    </tr>\n",
       "    <tr>\n",
       "      <th>15</th>\n",
       "      <td>kucsera</td>\n",
       "      <td>diana</td>\n",
       "      <td>1</td>\n",
       "      <td>kucsera, diana</td>\n",
       "    </tr>\n",
       "    <tr>\n",
       "      <th>16</th>\n",
       "      <td>oferrell</td>\n",
       "      <td>shyla</td>\n",
       "      <td>0</td>\n",
       "      <td>oferrell, shyla</td>\n",
       "    </tr>\n",
       "    <tr>\n",
       "      <th>17</th>\n",
       "      <td>kupersmith</td>\n",
       "      <td>luna</td>\n",
       "      <td>0</td>\n",
       "      <td>kupersmith, luna</td>\n",
       "    </tr>\n",
       "    <tr>\n",
       "      <th>18</th>\n",
       "      <td>deans</td>\n",
       "      <td>olivier</td>\n",
       "      <td>0</td>\n",
       "      <td>deans, olivier</td>\n",
       "    </tr>\n",
       "    <tr>\n",
       "      <th>19</th>\n",
       "      <td>goettsche</td>\n",
       "      <td>rebbeca</td>\n",
       "      <td>0</td>\n",
       "      <td>goettsche, rebbeca</td>\n",
       "    </tr>\n",
       "    <tr>\n",
       "      <th>20</th>\n",
       "      <td>szekeres</td>\n",
       "      <td>tamas</td>\n",
       "      <td>1</td>\n",
       "      <td>szekeres, tamas</td>\n",
       "    </tr>\n",
       "    <tr>\n",
       "      <th>21</th>\n",
       "      <td>rup</td>\n",
       "      <td>africa</td>\n",
       "      <td>0</td>\n",
       "      <td>rup, africa</td>\n",
       "    </tr>\n",
       "    <tr>\n",
       "      <th>22</th>\n",
       "      <td>tasi</td>\n",
       "      <td>tunde</td>\n",
       "      <td>1</td>\n",
       "      <td>tasi, tunde</td>\n",
       "    </tr>\n",
       "    <tr>\n",
       "      <th>23</th>\n",
       "      <td>futscher</td>\n",
       "      <td>kimberly</td>\n",
       "      <td>0</td>\n",
       "      <td>futscher, kimberly</td>\n",
       "    </tr>\n",
       "    <tr>\n",
       "      <th>24</th>\n",
       "      <td>skocik</td>\n",
       "      <td>rene</td>\n",
       "      <td>0</td>\n",
       "      <td>skocik, rene</td>\n",
       "    </tr>\n",
       "    <tr>\n",
       "      <th>25</th>\n",
       "      <td>kadar</td>\n",
       "      <td>melinda</td>\n",
       "      <td>1</td>\n",
       "      <td>kadar, melinda</td>\n",
       "    </tr>\n",
       "    <tr>\n",
       "      <th>26</th>\n",
       "      <td>felts</td>\n",
       "      <td>juniper</td>\n",
       "      <td>0</td>\n",
       "      <td>felts, juniper</td>\n",
       "    </tr>\n",
       "    <tr>\n",
       "      <th>27</th>\n",
       "      <td>guti</td>\n",
       "      <td>gergely</td>\n",
       "      <td>1</td>\n",
       "      <td>guti, gergely</td>\n",
       "    </tr>\n",
       "    <tr>\n",
       "      <th>28</th>\n",
       "      <td>thorington</td>\n",
       "      <td>hendrik</td>\n",
       "      <td>0</td>\n",
       "      <td>thorington, hendrik</td>\n",
       "    </tr>\n",
       "    <tr>\n",
       "      <th>29</th>\n",
       "      <td>balidemaj</td>\n",
       "      <td>vonda</td>\n",
       "      <td>0</td>\n",
       "      <td>balidemaj, vonda</td>\n",
       "    </tr>\n",
       "  </tbody>\n",
       "</table>\n",
       "</div>"
      ],
      "text/plain": [
       "           family      given  hun             full_name\n",
       "0       petrovics  bernadett    1  petrovics, bernadett\n",
       "1        balatoni       irma    1        balatoni, irma\n",
       "2        rusznyak    valeria    1     rusznyak, valeria\n",
       "3       paternina     tyanna    0     paternina, tyanna\n",
       "4         stommes      evett    0        stommes, evett\n",
       "5         szenasi     renato    1       szenasi, renato\n",
       "6         szilasi      zalan    1        szilasi, zalan\n",
       "7        penunuri   quantina    0    penunuri, quantina\n",
       "8           maraz      hanna    1          maraz, hanna\n",
       "9         soltesz   patricia    1     soltesz, patricia\n",
       "10           gera      timea    1           gera, timea\n",
       "11          toldi    kristof    1        toldi, kristof\n",
       "12       kazinczi     aladar    1      kazinczi, aladar\n",
       "13  vargassanchez      dessa    0  vargassanchez, dessa\n",
       "14        kolanko  kristelle    0    kolanko, kristelle\n",
       "15        kucsera      diana    1        kucsera, diana\n",
       "16       oferrell      shyla    0       oferrell, shyla\n",
       "17     kupersmith       luna    0      kupersmith, luna\n",
       "18          deans    olivier    0        deans, olivier\n",
       "19      goettsche    rebbeca    0    goettsche, rebbeca\n",
       "20       szekeres      tamas    1       szekeres, tamas\n",
       "21            rup     africa    0           rup, africa\n",
       "22           tasi      tunde    1           tasi, tunde\n",
       "23       futscher   kimberly    0    futscher, kimberly\n",
       "24         skocik       rene    0          skocik, rene\n",
       "25          kadar    melinda    1        kadar, melinda\n",
       "26          felts    juniper    0        felts, juniper\n",
       "27           guti    gergely    1         guti, gergely\n",
       "28     thorington    hendrik    0   thorington, hendrik\n",
       "29      balidemaj      vonda    0      balidemaj, vonda"
      ]
     },
     "execution_count": 117,
     "metadata": {},
     "output_type": "execute_result"
    }
   ],
   "source": [
    "names = pd.read_csv('names_dataset.csv')\n",
    "names.head(30)"
   ]
  },
  {
   "cell_type": "code",
   "execution_count": null,
   "metadata": {
    "collapsed": true
   },
   "outputs": [],
   "source": []
  }
 ],
 "metadata": {
  "anaconda-cloud": {},
  "kernelspec": {
   "display_name": "Python [conda root]",
   "language": "python",
   "name": "conda-root-py"
  },
  "language_info": {
   "codemirror_mode": {
    "name": "ipython",
    "version": 3
   },
   "file_extension": ".py",
   "mimetype": "text/x-python",
   "name": "python",
   "nbconvert_exporter": "python",
   "pygments_lexer": "ipython3",
   "version": "3.5.2"
  }
 },
 "nbformat": 4,
 "nbformat_minor": 1
}
